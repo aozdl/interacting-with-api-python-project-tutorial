{
    "cells": [
        {
            "cell_type": "markdown",
            "metadata": {},
            "source": [
                "# Explore here"
            ]
        },
        {
            "cell_type": "code",
            "execution_count": 8,
            "metadata": {},
            "outputs": [
                {
                    "name": "stdout",
                    "output_type": "stream",
                    "text": [
                        "Requirement already satisfied: spotipy in /workspaces/interacting-with-api-python-project-tutorial/.venv/lib/python3.11/site-packages (2.24.0)\n",
                        "Requirement already satisfied: redis>=3.5.3 in /workspaces/interacting-with-api-python-project-tutorial/.venv/lib/python3.11/site-packages (from spotipy) (5.0.8)\n",
                        "Requirement already satisfied: requests>=2.25.0 in /workspaces/interacting-with-api-python-project-tutorial/.venv/lib/python3.11/site-packages (from spotipy) (2.32.3)\n",
                        "Requirement already satisfied: urllib3>=1.26.0 in /workspaces/interacting-with-api-python-project-tutorial/.venv/lib/python3.11/site-packages (from spotipy) (2.2.2)\n",
                        "Requirement already satisfied: charset-normalizer<4,>=2 in /workspaces/interacting-with-api-python-project-tutorial/.venv/lib/python3.11/site-packages (from requests>=2.25.0->spotipy) (3.3.2)\n",
                        "Requirement already satisfied: idna<4,>=2.5 in /workspaces/interacting-with-api-python-project-tutorial/.venv/lib/python3.11/site-packages (from requests>=2.25.0->spotipy) (3.8)\n",
                        "Requirement already satisfied: certifi>=2017.4.17 in /workspaces/interacting-with-api-python-project-tutorial/.venv/lib/python3.11/site-packages (from requests>=2.25.0->spotipy) (2024.7.4)\n",
                        "Note: you may need to restart the kernel to use updated packages.\n",
                        "Requirement already satisfied: python-dotenv in /workspaces/interacting-with-api-python-project-tutorial/.venv/lib/python3.11/site-packages (1.0.1)\n",
                        "Note: you may need to restart the kernel to use updated packages.\n",
                        "Requirement already satisfied: pandas in /workspaces/interacting-with-api-python-project-tutorial/.venv/lib/python3.11/site-packages (2.2.2)\n",
                        "Requirement already satisfied: numpy>=1.23.2 in /workspaces/interacting-with-api-python-project-tutorial/.venv/lib/python3.11/site-packages (from pandas) (2.1.0)\n",
                        "Requirement already satisfied: python-dateutil>=2.8.2 in /workspaces/interacting-with-api-python-project-tutorial/.venv/lib/python3.11/site-packages (from pandas) (2.9.0.post0)\n",
                        "Requirement already satisfied: pytz>=2020.1 in /workspaces/interacting-with-api-python-project-tutorial/.venv/lib/python3.11/site-packages (from pandas) (2024.1)\n",
                        "Requirement already satisfied: tzdata>=2022.7 in /workspaces/interacting-with-api-python-project-tutorial/.venv/lib/python3.11/site-packages (from pandas) (2024.1)\n",
                        "Requirement already satisfied: six>=1.5 in /workspaces/interacting-with-api-python-project-tutorial/.venv/lib/python3.11/site-packages (from python-dateutil>=2.8.2->pandas) (1.16.0)\n",
                        "Note: you may need to restart the kernel to use updated packages.\n",
                        "Requirement already satisfied: seaborn in /workspaces/interacting-with-api-python-project-tutorial/.venv/lib/python3.11/site-packages (0.13.2)\n",
                        "Requirement already satisfied: numpy!=1.24.0,>=1.20 in /workspaces/interacting-with-api-python-project-tutorial/.venv/lib/python3.11/site-packages (from seaborn) (2.1.0)\n",
                        "Requirement already satisfied: pandas>=1.2 in /workspaces/interacting-with-api-python-project-tutorial/.venv/lib/python3.11/site-packages (from seaborn) (2.2.2)\n",
                        "Requirement already satisfied: matplotlib!=3.6.1,>=3.4 in /workspaces/interacting-with-api-python-project-tutorial/.venv/lib/python3.11/site-packages (from seaborn) (3.9.2)\n",
                        "Requirement already satisfied: contourpy>=1.0.1 in /workspaces/interacting-with-api-python-project-tutorial/.venv/lib/python3.11/site-packages (from matplotlib!=3.6.1,>=3.4->seaborn) (1.2.1)\n",
                        "Requirement already satisfied: cycler>=0.10 in /workspaces/interacting-with-api-python-project-tutorial/.venv/lib/python3.11/site-packages (from matplotlib!=3.6.1,>=3.4->seaborn) (0.12.1)\n",
                        "Requirement already satisfied: fonttools>=4.22.0 in /workspaces/interacting-with-api-python-project-tutorial/.venv/lib/python3.11/site-packages (from matplotlib!=3.6.1,>=3.4->seaborn) (4.53.1)\n",
                        "Requirement already satisfied: kiwisolver>=1.3.1 in /workspaces/interacting-with-api-python-project-tutorial/.venv/lib/python3.11/site-packages (from matplotlib!=3.6.1,>=3.4->seaborn) (1.4.5)\n",
                        "Requirement already satisfied: packaging>=20.0 in /workspaces/interacting-with-api-python-project-tutorial/.venv/lib/python3.11/site-packages (from matplotlib!=3.6.1,>=3.4->seaborn) (24.1)\n",
                        "Requirement already satisfied: pillow>=8 in /workspaces/interacting-with-api-python-project-tutorial/.venv/lib/python3.11/site-packages (from matplotlib!=3.6.1,>=3.4->seaborn) (10.4.0)\n",
                        "Requirement already satisfied: pyparsing>=2.3.1 in /workspaces/interacting-with-api-python-project-tutorial/.venv/lib/python3.11/site-packages (from matplotlib!=3.6.1,>=3.4->seaborn) (3.1.4)\n",
                        "Requirement already satisfied: python-dateutil>=2.7 in /workspaces/interacting-with-api-python-project-tutorial/.venv/lib/python3.11/site-packages (from matplotlib!=3.6.1,>=3.4->seaborn) (2.9.0.post0)\n",
                        "Requirement already satisfied: pytz>=2020.1 in /workspaces/interacting-with-api-python-project-tutorial/.venv/lib/python3.11/site-packages (from pandas>=1.2->seaborn) (2024.1)\n",
                        "Requirement already satisfied: tzdata>=2022.7 in /workspaces/interacting-with-api-python-project-tutorial/.venv/lib/python3.11/site-packages (from pandas>=1.2->seaborn) (2024.1)\n",
                        "Requirement already satisfied: six>=1.5 in /workspaces/interacting-with-api-python-project-tutorial/.venv/lib/python3.11/site-packages (from python-dateutil>=2.7->matplotlib!=3.6.1,>=3.4->seaborn) (1.16.0)\n",
                        "Note: you may need to restart the kernel to use updated packages.\n",
                        "Requirement already satisfied: matplotlib in /workspaces/interacting-with-api-python-project-tutorial/.venv/lib/python3.11/site-packages (3.9.2)\n",
                        "Requirement already satisfied: contourpy>=1.0.1 in /workspaces/interacting-with-api-python-project-tutorial/.venv/lib/python3.11/site-packages (from matplotlib) (1.2.1)\n",
                        "Requirement already satisfied: cycler>=0.10 in /workspaces/interacting-with-api-python-project-tutorial/.venv/lib/python3.11/site-packages (from matplotlib) (0.12.1)\n",
                        "Requirement already satisfied: fonttools>=4.22.0 in /workspaces/interacting-with-api-python-project-tutorial/.venv/lib/python3.11/site-packages (from matplotlib) (4.53.1)\n",
                        "Requirement already satisfied: kiwisolver>=1.3.1 in /workspaces/interacting-with-api-python-project-tutorial/.venv/lib/python3.11/site-packages (from matplotlib) (1.4.5)\n",
                        "Requirement already satisfied: numpy>=1.23 in /workspaces/interacting-with-api-python-project-tutorial/.venv/lib/python3.11/site-packages (from matplotlib) (2.1.0)\n",
                        "Requirement already satisfied: packaging>=20.0 in /workspaces/interacting-with-api-python-project-tutorial/.venv/lib/python3.11/site-packages (from matplotlib) (24.1)\n",
                        "Requirement already satisfied: pillow>=8 in /workspaces/interacting-with-api-python-project-tutorial/.venv/lib/python3.11/site-packages (from matplotlib) (10.4.0)\n",
                        "Requirement already satisfied: pyparsing>=2.3.1 in /workspaces/interacting-with-api-python-project-tutorial/.venv/lib/python3.11/site-packages (from matplotlib) (3.1.4)\n",
                        "Requirement already satisfied: python-dateutil>=2.7 in /workspaces/interacting-with-api-python-project-tutorial/.venv/lib/python3.11/site-packages (from matplotlib) (2.9.0.post0)\n",
                        "Requirement already satisfied: six>=1.5 in /workspaces/interacting-with-api-python-project-tutorial/.venv/lib/python3.11/site-packages (from python-dateutil>=2.7->matplotlib) (1.16.0)\n",
                        "Note: you may need to restart the kernel to use updated packages.\n"
                    ]
                }
            ],
            "source": [
                "%pip install spotipy\n",
                "%pip install python-dotenv\n",
                "%pip install pandas\n",
                "%pip install seaborn\n",
                "%pip install matplotlib"
            ]
        },
        {
            "cell_type": "code",
            "execution_count": 9,
            "metadata": {},
            "outputs": [],
            "source": [
                "import spotipy\n",
                "from spotipy.oauth2 import SpotifyClientCredentials\n",
                "from spotipy.oauth2 import SpotifyOAuth\n",
                "import spotipy.util as util"
            ]
        },
        {
            "cell_type": "code",
            "execution_count": 12,
            "metadata": {},
            "outputs": [
                {
                    "ename": "SpotifyOauthError",
                    "evalue": "No client_id. Pass it or set a SPOTIPY_CLIENT_ID environment variable.",
                    "output_type": "error",
                    "traceback": [
                        "\u001b[0;31m---------------------------------------------------------------------------\u001b[0m",
                        "\u001b[0;31mSpotifyOauthError\u001b[0m                         Traceback (most recent call last)",
                        "Cell \u001b[0;32mIn[12], line 20\u001b[0m\n\u001b[1;32m     15\u001b[0m client_secret \u001b[38;5;241m=\u001b[39m os\u001b[38;5;241m.\u001b[39menviron\u001b[38;5;241m.\u001b[39mget(\u001b[38;5;124m'\u001b[39m\u001b[38;5;124mCLIENT_SECRET\u001b[39m\u001b[38;5;124m'\u001b[39m)\n\u001b[1;32m     17\u001b[0m \u001b[38;5;66;03m#client_id = os.getenv(\"CLIENT_ID\")\u001b[39;00m\n\u001b[1;32m     18\u001b[0m \u001b[38;5;66;03m#client_secret = os.getenv(\"CLIENT_SECRET\")\u001b[39;00m\n\u001b[0;32m---> 20\u001b[0m con \u001b[38;5;241m=\u001b[39m spotipy\u001b[38;5;241m.\u001b[39mSpotify(auth_manager \u001b[38;5;241m=\u001b[39m \u001b[43mSpotifyClientCredentials\u001b[49m\u001b[43m(\u001b[49m\u001b[43mclient_id\u001b[49m\u001b[43m \u001b[49m\u001b[38;5;241;43m=\u001b[39;49m\u001b[43m \u001b[49m\u001b[43mclient_id\u001b[49m\u001b[43m,\u001b[49m\u001b[43m \u001b[49m\u001b[43mclient_secret\u001b[49m\u001b[43m \u001b[49m\u001b[38;5;241;43m=\u001b[39;49m\u001b[43m \u001b[49m\u001b[43mclient_secret\u001b[49m\u001b[43m)\u001b[49m)\n\u001b[1;32m     22\u001b[0m \u001b[38;5;66;03m#client_credentials_manager = SpotifyClientCredentials(CLIENT_ID, CLIENT_SECRET)\u001b[39;00m\n\u001b[1;32m     23\u001b[0m \u001b[38;5;66;03m#connection = spotipy.Spotify(client_credentials_manager=client_credentials_manager)\u001b[39;00m\n",
                        "File \u001b[0;32m/workspaces/interacting-with-api-python-project-tutorial/.venv/lib/python3.11/site-packages/spotipy/oauth2.py:192\u001b[0m, in \u001b[0;36mSpotifyClientCredentials.__init__\u001b[0;34m(self, client_id, client_secret, proxies, requests_session, requests_timeout, cache_handler)\u001b[0m\n\u001b[1;32m    163\u001b[0m \u001b[38;5;250m\u001b[39m\u001b[38;5;124;03m\"\"\"\u001b[39;00m\n\u001b[1;32m    164\u001b[0m \u001b[38;5;124;03mCreates a Client Credentials Flow Manager.\u001b[39;00m\n\u001b[1;32m    165\u001b[0m \n\u001b[0;32m   (...)\u001b[0m\n\u001b[1;32m    187\u001b[0m \n\u001b[1;32m    188\u001b[0m \u001b[38;5;124;03m\"\"\"\u001b[39;00m\n\u001b[1;32m    190\u001b[0m \u001b[38;5;28msuper\u001b[39m()\u001b[38;5;241m.\u001b[39m\u001b[38;5;21m__init__\u001b[39m(requests_session)\n\u001b[0;32m--> 192\u001b[0m \u001b[38;5;28;43mself\u001b[39;49m\u001b[38;5;241;43m.\u001b[39;49m\u001b[43mclient_id\u001b[49m \u001b[38;5;241m=\u001b[39m client_id\n\u001b[1;32m    193\u001b[0m \u001b[38;5;28mself\u001b[39m\u001b[38;5;241m.\u001b[39mclient_secret \u001b[38;5;241m=\u001b[39m client_secret\n\u001b[1;32m    194\u001b[0m \u001b[38;5;28mself\u001b[39m\u001b[38;5;241m.\u001b[39mproxies \u001b[38;5;241m=\u001b[39m proxies\n",
                        "File \u001b[0;32m/workspaces/interacting-with-api-python-project-tutorial/.venv/lib/python3.11/site-packages/spotipy/oauth2.py:87\u001b[0m, in \u001b[0;36mSpotifyAuthBase.client_id\u001b[0;34m(self, val)\u001b[0m\n\u001b[1;32m     85\u001b[0m \u001b[38;5;129m@client_id\u001b[39m\u001b[38;5;241m.\u001b[39msetter\n\u001b[1;32m     86\u001b[0m \u001b[38;5;28;01mdef\u001b[39;00m \u001b[38;5;21mclient_id\u001b[39m(\u001b[38;5;28mself\u001b[39m, val):\n\u001b[0;32m---> 87\u001b[0m     \u001b[38;5;28mself\u001b[39m\u001b[38;5;241m.\u001b[39m_client_id \u001b[38;5;241m=\u001b[39m \u001b[43m_ensure_value\u001b[49m\u001b[43m(\u001b[49m\u001b[43mval\u001b[49m\u001b[43m,\u001b[49m\u001b[43m \u001b[49m\u001b[38;5;124;43m\"\u001b[39;49m\u001b[38;5;124;43mclient_id\u001b[39;49m\u001b[38;5;124;43m\"\u001b[39;49m\u001b[43m)\u001b[49m\n",
                        "File \u001b[0;32m/workspaces/interacting-with-api-python-project-tutorial/.venv/lib/python3.11/site-packages/spotipy/oauth2.py:63\u001b[0m, in \u001b[0;36m_ensure_value\u001b[0;34m(value, env_key)\u001b[0m\n\u001b[1;32m     61\u001b[0m \u001b[38;5;28;01mif\u001b[39;00m _val \u001b[38;5;129;01mis\u001b[39;00m \u001b[38;5;28;01mNone\u001b[39;00m:\n\u001b[1;32m     62\u001b[0m     msg \u001b[38;5;241m=\u001b[39m \u001b[38;5;124mf\u001b[39m\u001b[38;5;124m\"\u001b[39m\u001b[38;5;124mNo \u001b[39m\u001b[38;5;132;01m{\u001b[39;00menv_key\u001b[38;5;132;01m}\u001b[39;00m\u001b[38;5;124m. Pass it or set a \u001b[39m\u001b[38;5;132;01m{\u001b[39;00menv_val\u001b[38;5;132;01m}\u001b[39;00m\u001b[38;5;124m environment variable.\u001b[39m\u001b[38;5;124m\"\u001b[39m\n\u001b[0;32m---> 63\u001b[0m     \u001b[38;5;28;01mraise\u001b[39;00m SpotifyOauthError(msg)\n\u001b[1;32m     64\u001b[0m \u001b[38;5;28;01mreturn\u001b[39;00m _val\n",
                        "\u001b[0;31mSpotifyOauthError\u001b[0m: No client_id. Pass it or set a SPOTIPY_CLIENT_ID environment variable."
                    ]
                }
            ],
            "source": [
                "import os\n",
                "import pandas as pd\n",
                "import seaborn as sns\n",
                "import matplotlib.pyplot as plt\n",
                "from dotenv import load_dotenv\n",
                "\n",
                "# load the .env file variables\n",
                "load_dotenv()\n",
                "\n",
                "CLIENT_ID=\"e91d0a739d0d48408e2bf4db46b75630\"\n",
                "CLIENT_SECRET=\"e7d924981f0047e39e39d8f5428321ca\"\n",
                "\n",
                "# Use the values loaded from the .env file\n",
                "client_id = os.environ.get('CLIENT_ID')\n",
                "client_secret = os.environ.get('CLIENT_SECRET')\n",
                "\n",
                "#client_id = os.getenv(\"CLIENT_ID\")\n",
                "#client_secret = os.getenv(\"CLIENT_SECRET\")\n",
                "\n",
                "con = spotipy.Spotify(auth_manager = SpotifyClientCredentials(client_id = client_id, client_secret = client_secret))\n",
                "\n",
                "#client_credentials_manager = SpotifyClientCredentials(CLIENT_ID, CLIENT_SECRET)\n",
                "#connection = spotipy.Spotify(client_credentials_manager=client_credentials_manager)\n"
            ]
        },
        {
            "cell_type": "code",
            "execution_count": null,
            "metadata": {},
            "outputs": [],
            "source": [
                "print(connection)\n",
                "\n",
                "sp = spotipy.Spotify(client_credentials_manager=client_credentials_manager)\n",
                "result = sp.artist_top_tracks(\"6XyY86QOPPrYVGvF9ch6wz\")\n",
                "print(result(\"tracks\")"
            ]
        },
        {
            "cell_type": "code",
            "execution_count": null,
            "metadata": {},
            "outputs": [
                {
                    "ename": "SpotifyOauthError",
                    "evalue": "No client_id. Pass it or set a SPOTIPY_CLIENT_ID environment variable.",
                    "output_type": "error",
                    "traceback": [
                        "\u001b[0;31m---------------------------------------------------------------------------\u001b[0m",
                        "\u001b[0;31mSpotifyOauthError\u001b[0m                         Traceback (most recent call last)",
                        "Cell \u001b[0;32mIn[7], line 3\u001b[0m\n\u001b[1;32m      1\u001b[0m client_id \u001b[38;5;241m=\u001b[39m os\u001b[38;5;241m.\u001b[39menviron\u001b[38;5;241m.\u001b[39mget(\u001b[38;5;124m\"\u001b[39m\u001b[38;5;124mCLIENT_ID\u001b[39m\u001b[38;5;124m\"\u001b[39m)\n\u001b[1;32m      2\u001b[0m client_secret \u001b[38;5;241m=\u001b[39m os\u001b[38;5;241m.\u001b[39menviron\u001b[38;5;241m.\u001b[39mget(\u001b[38;5;124m\"\u001b[39m\u001b[38;5;124mCLIENT_SECRET\u001b[39m\u001b[38;5;124m\"\u001b[39m)\n\u001b[0;32m----> 3\u001b[0m client_credentials_manager\u001b[38;5;241m=\u001b[39m\u001b[43mSpotifyClientCredentials\u001b[49m\u001b[43m(\u001b[49m\u001b[43mclient_id\u001b[49m\u001b[43m,\u001b[49m\u001b[43m \u001b[49m\u001b[43mclient_secret\u001b[49m\u001b[43m)\u001b[49m\n\u001b[1;32m      4\u001b[0m connection \u001b[38;5;241m=\u001b[39m spotipy\u001b[38;5;241m.\u001b[39mSpotify(client_credentials_manager\u001b[38;5;241m=\u001b[39mclient_credentials_manager)\n\u001b[1;32m      6\u001b[0m \u001b[38;5;28mprint\u001b[39m(connection)\n",
                        "File \u001b[0;32m/workspaces/interacting-with-api-python-project-tutorial/.venv/lib/python3.11/site-packages/spotipy/oauth2.py:192\u001b[0m, in \u001b[0;36mSpotifyClientCredentials.__init__\u001b[0;34m(self, client_id, client_secret, proxies, requests_session, requests_timeout, cache_handler)\u001b[0m\n\u001b[1;32m    163\u001b[0m \u001b[38;5;250m\u001b[39m\u001b[38;5;124;03m\"\"\"\u001b[39;00m\n\u001b[1;32m    164\u001b[0m \u001b[38;5;124;03mCreates a Client Credentials Flow Manager.\u001b[39;00m\n\u001b[1;32m    165\u001b[0m \n\u001b[0;32m   (...)\u001b[0m\n\u001b[1;32m    187\u001b[0m \n\u001b[1;32m    188\u001b[0m \u001b[38;5;124;03m\"\"\"\u001b[39;00m\n\u001b[1;32m    190\u001b[0m \u001b[38;5;28msuper\u001b[39m()\u001b[38;5;241m.\u001b[39m\u001b[38;5;21m__init__\u001b[39m(requests_session)\n\u001b[0;32m--> 192\u001b[0m \u001b[38;5;28;43mself\u001b[39;49m\u001b[38;5;241;43m.\u001b[39;49m\u001b[43mclient_id\u001b[49m \u001b[38;5;241m=\u001b[39m client_id\n\u001b[1;32m    193\u001b[0m \u001b[38;5;28mself\u001b[39m\u001b[38;5;241m.\u001b[39mclient_secret \u001b[38;5;241m=\u001b[39m client_secret\n\u001b[1;32m    194\u001b[0m \u001b[38;5;28mself\u001b[39m\u001b[38;5;241m.\u001b[39mproxies \u001b[38;5;241m=\u001b[39m proxies\n",
                        "File \u001b[0;32m/workspaces/interacting-with-api-python-project-tutorial/.venv/lib/python3.11/site-packages/spotipy/oauth2.py:87\u001b[0m, in \u001b[0;36mSpotifyAuthBase.client_id\u001b[0;34m(self, val)\u001b[0m\n\u001b[1;32m     85\u001b[0m \u001b[38;5;129m@client_id\u001b[39m\u001b[38;5;241m.\u001b[39msetter\n\u001b[1;32m     86\u001b[0m \u001b[38;5;28;01mdef\u001b[39;00m \u001b[38;5;21mclient_id\u001b[39m(\u001b[38;5;28mself\u001b[39m, val):\n\u001b[0;32m---> 87\u001b[0m     \u001b[38;5;28mself\u001b[39m\u001b[38;5;241m.\u001b[39m_client_id \u001b[38;5;241m=\u001b[39m \u001b[43m_ensure_value\u001b[49m\u001b[43m(\u001b[49m\u001b[43mval\u001b[49m\u001b[43m,\u001b[49m\u001b[43m \u001b[49m\u001b[38;5;124;43m\"\u001b[39;49m\u001b[38;5;124;43mclient_id\u001b[39;49m\u001b[38;5;124;43m\"\u001b[39;49m\u001b[43m)\u001b[49m\n",
                        "File \u001b[0;32m/workspaces/interacting-with-api-python-project-tutorial/.venv/lib/python3.11/site-packages/spotipy/oauth2.py:63\u001b[0m, in \u001b[0;36m_ensure_value\u001b[0;34m(value, env_key)\u001b[0m\n\u001b[1;32m     61\u001b[0m \u001b[38;5;28;01mif\u001b[39;00m _val \u001b[38;5;129;01mis\u001b[39;00m \u001b[38;5;28;01mNone\u001b[39;00m:\n\u001b[1;32m     62\u001b[0m     msg \u001b[38;5;241m=\u001b[39m \u001b[38;5;124mf\u001b[39m\u001b[38;5;124m\"\u001b[39m\u001b[38;5;124mNo \u001b[39m\u001b[38;5;132;01m{\u001b[39;00menv_key\u001b[38;5;132;01m}\u001b[39;00m\u001b[38;5;124m. Pass it or set a \u001b[39m\u001b[38;5;132;01m{\u001b[39;00menv_val\u001b[38;5;132;01m}\u001b[39;00m\u001b[38;5;124m environment variable.\u001b[39m\u001b[38;5;124m\"\u001b[39m\n\u001b[0;32m---> 63\u001b[0m     \u001b[38;5;28;01mraise\u001b[39;00m SpotifyOauthError(msg)\n\u001b[1;32m     64\u001b[0m \u001b[38;5;28;01mreturn\u001b[39;00m _val\n",
                        "\u001b[0;31mSpotifyOauthError\u001b[0m: No client_id. Pass it or set a SPOTIPY_CLIENT_ID environment variable."
                    ]
                }
            ],
            "source": [
                "tracks = spotipy."
            ]
        }
    ],
    "metadata": {
        "kernelspec": {
            "display_name": "Python 3.8.13 64-bit ('3.8.13')",
            "language": "python",
            "name": "python3"
        },
        "language_info": {
            "codemirror_mode": {
                "name": "ipython",
                "version": 3
            },
            "file_extension": ".py",
            "mimetype": "text/x-python",
            "name": "python",
            "nbconvert_exporter": "python",
            "pygments_lexer": "ipython3",
            "version": "3.11.4"
        },
        "orig_nbformat": 4,
        "vscode": {
            "interpreter": {
                "hash": "110cc1dee26208153f2972f08a2ad52b6a56238dc66d48e87fb757ef2996db56"
            }
        }
    },
    "nbformat": 4,
    "nbformat_minor": 2
}
